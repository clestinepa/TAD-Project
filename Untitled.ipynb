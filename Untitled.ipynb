{
 "cells": [
  {
   "cell_type": "code",
   "execution_count": 20,
   "id": "8805686a",
   "metadata": {},
   "outputs": [],
   "source": [
    "import pandas as pd"
   ]
  },
  {
   "cell_type": "code",
   "execution_count": 21,
   "id": "9e760c09",
   "metadata": {},
   "outputs": [],
   "source": [
    "df = pd.read_csv (r'C:\\Users\\celes\\Downloads\\clem.csv', sep = ',')\n",
    "df = df.loc[df[\"Unnamed: 0\"] < 4750000 ]\n",
    "df.to_json (r'C:\\Users\\celes\\Desktop\\Test Integration\\TAD Project\\static\\data\\dataCROPEDTOWORK.json', indent = 1, orient='records')"
   ]
  },
  {
   "cell_type": "code",
   "execution_count": 22,
   "id": "ee6bd3d3",
   "metadata": {},
   "outputs": [
    {
     "name": "stdout",
     "output_type": "stream",
     "text": [
      "        Unnamed: 0 carrier_code  flight_number origin_airport  \\\n",
      "0                9           NK            597            MSP   \n",
      "1               31           AA            447            PHX   \n",
      "2               56           F9            678            DEN   \n",
      "3               67           UA           5034            FWA   \n",
      "4              100           AA           2981            DTW   \n",
      "...            ...          ...            ...            ...   \n",
      "495709     4749982           AS             45            ANC   \n",
      "495710     4749991           B6            347            OAK   \n",
      "495711     4749994           AA            967            RDU   \n",
      "495712     4749996           UA            750            DEN   \n",
      "495713     4749999           AA           6047            TUL   \n",
      "\n",
      "       destination_airport                 date  scheduled_elapsed_time  \\\n",
      "0                      FLL  2019-05-01 00:00:00                     210   \n",
      "1                      ORD  2019-05-01 00:00:00                     198   \n",
      "2                      MCO  2019-05-01 00:00:00                     213   \n",
      "3                      ORD  2019-05-01 00:00:00                      70   \n",
      "4                      ORD  2019-05-01 00:00:00                      91   \n",
      "...                    ...                  ...                     ...   \n",
      "495709                 BET  2019-11-26 00:00:00                      78   \n",
      "495710                 LGB  2019-11-26 00:00:00                      77   \n",
      "495711                 PHL  2019-11-26 00:00:00                      96   \n",
      "495712                 PSP  2019-11-26 00:00:00                     134   \n",
      "495713                 LAX  2019-11-26 00:00:00                     219   \n",
      "\n",
      "       tail_number  departure_delay  arrival_delay  ...  \\\n",
      "0           N905NK               75             81  ...   \n",
      "1           N918US              322            326  ...   \n",
      "2           N337FR               29             46  ...   \n",
      "3           N857AS               24             40  ...   \n",
      "4           N758EV               -4             20  ...   \n",
      "...            ...              ...            ...  ...   \n",
      "495709      N556AS               17             26  ...   \n",
      "495710      N589JB               78             76  ...   \n",
      "495711      N748UW               -3             18  ...   \n",
      "495712      N33284               52             61  ...   \n",
      "495713      N219NN              -11             18  ...   \n",
      "\n",
      "        hourlyprecipitation_x  hourlystationpressure_x  hourlyvisibility_x  \\\n",
      "0                        0.02                    29.18                6.00   \n",
      "1                        0.00                    28.66               10.00   \n",
      "2                        0.00                    24.42                0.75   \n",
      "3                        0.00                    29.05                1.75   \n",
      "4                        0.00                    29.32                8.00   \n",
      "...                       ...                      ...                 ...   \n",
      "495709                   0.00                    30.30               10.00   \n",
      "495710                   0.15                    29.50                4.00   \n",
      "495711                   0.00                    29.60               10.00   \n",
      "495712                   0.00                    24.45               10.00   \n",
      "495713                   0.00                    28.81               10.00   \n",
      "\n",
      "        hourlywindspeed_x  hourlydrybulbtemperature_y hourlyprecipitation_y  \\\n",
      "0                    13.0                        77.0                  0.00   \n",
      "1                     5.0                        50.0                  0.24   \n",
      "2                     6.0                        71.0                  0.00   \n",
      "3                    10.0                        50.0                  0.24   \n",
      "4                     9.0                        50.0                  0.24   \n",
      "...                   ...                         ...                   ...   \n",
      "495709                7.0                        37.0                  0.04   \n",
      "495710               38.0                        60.0                  0.00   \n",
      "495711                5.0                        53.0                  0.00   \n",
      "495712                6.0                        56.0                  0.00   \n",
      "495713               34.0                        62.0                  0.00   \n",
      "\n",
      "        hourlystationpressure_y  hourlyvisibility_y  hourlywindspeed_y  \\\n",
      "0                         30.06                10.0               10.0   \n",
      "1                         29.11                 3.0                9.0   \n",
      "2                         30.08                10.0                6.0   \n",
      "3                         29.11                 3.0                9.0   \n",
      "4                         29.11                 3.0                9.0   \n",
      "...                         ...                 ...                ...   \n",
      "495709                    29.90                 8.0               23.0   \n",
      "495710                    29.80                10.0                7.0   \n",
      "495711                    29.97                10.0                6.0   \n",
      "495712                    29.42                10.0                3.0   \n",
      "495713                    29.53                10.0               13.0   \n",
      "\n",
      "        delay_class  \n",
      "0                 5  \n",
      "1                 0  \n",
      "2                 1  \n",
      "3                 1  \n",
      "4                 1  \n",
      "...             ...  \n",
      "495709            0  \n",
      "495710            2  \n",
      "495711            1  \n",
      "495712            0  \n",
      "495713            1  \n",
      "\n",
      "[495714 rows x 37 columns]\n"
     ]
    }
   ],
   "source": [
    "print(df)"
   ]
  }
 ],
 "metadata": {
  "kernelspec": {
   "display_name": "Python 3",
   "language": "python",
   "name": "python3"
  },
  "language_info": {
   "codemirror_mode": {
    "name": "ipython",
    "version": 3
   },
   "file_extension": ".py",
   "mimetype": "text/x-python",
   "name": "python",
   "nbconvert_exporter": "python",
   "pygments_lexer": "ipython3",
   "version": "3.8.6"
  },
  "vscode": {
   "interpreter": {
    "hash": "cce1130568047b4ab34a81f230dd877942ab8bc1847276d75963a230ee5adc22"
   }
  }
 },
 "nbformat": 4,
 "nbformat_minor": 5
}
