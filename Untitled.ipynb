{
 "cells": [
  {
   "cell_type": "code",
   "execution_count": 3,
   "id": "8805686a",
   "metadata": {},
   "outputs": [],
   "source": [
    "import pandas as pd"
   ]
  },
  {
   "cell_type": "code",
   "execution_count": 4,
   "id": "9e760c09",
   "metadata": {},
   "outputs": [],
   "source": [
    "df = pd.read_csv (r'C:\\Users\\celes\\Downloads\\L_UNIQUE_CARRIERS.csv', sep = ',')\n",
    "df.to_json (r'C:\\Users\\celes\\Desktop\\Test Integration\\TAD Project\\static\\data\\airport.json', indent = 1, orient='records')"
   ]
  }
 ],
 "metadata": {
  "kernelspec": {
   "display_name": "Python 3",
   "language": "python",
   "name": "python3"
  },
  "language_info": {
   "codemirror_mode": {
    "name": "ipython",
    "version": 3
   },
   "file_extension": ".py",
   "mimetype": "text/x-python",
   "name": "python",
   "nbconvert_exporter": "python",
   "pygments_lexer": "ipython3",
   "version": "3.8.6"
  },
  "vscode": {
   "interpreter": {
    "hash": "cce1130568047b4ab34a81f230dd877942ab8bc1847276d75963a230ee5adc22"
   }
  }
 },
 "nbformat": 4,
 "nbformat_minor": 5
}
